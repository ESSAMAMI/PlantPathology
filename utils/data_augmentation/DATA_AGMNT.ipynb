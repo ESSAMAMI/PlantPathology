{
 "cells": [
  {
   "cell_type": "code",
   "execution_count": 58,
   "metadata": {},
   "outputs": [],
   "source": [
    "import tensorflow as tf\n",
    "import numpy as np\n",
    "from random import shuffle\n",
    "from tensorflow.keras.datasets import cifar10\n",
    "from tensorflow.keras.preprocessing.image import ImageDataGenerator\n",
    "from tensorflow.keras.models import Sequential\n",
    "from tensorflow.keras.layers import Dense, Dropout, Activation, Flatten\n",
    "from tensorflow.keras.optimizers import Adam\n",
    "from tensorflow.keras import regularizers\n",
    "from matplotlib import pyplot as plt\n",
    "from tensorflow.keras.optimizers import SGD\n",
    "import matplotlib.image as mpimg\n",
    "import time\n",
    "from tensorflow.keras.utils import plot_model\n",
    "import random\n",
    "from datetime import datetime\n",
    "from datetime import date\n",
    "from random import randint\n",
    "from tensorflow.keras.callbacks import TensorBoard\n",
    "import pandas as pd\n",
    "from PIL import Image\n",
    "from tensorflow.keras.layers import Dense, Flatten, Conv2D, Dropout, MaxPooling2D, Input, BatchNormalization, MaxPool2D\n",
    "import csv\n",
    "import os\n",
    "from progressbar import *\n",
    "from plotly import tools\n",
    "%matplotlib inline \n",
    "import plotly.graph_objs as go\n",
    "import plotly.figure_factory as ff\n",
    "import plotly\n",
    "from sklearn.model_selection import train_test_split\n",
    "from plotly import tools\n",
    "from plotly.offline import download_plotlyjs, init_notebook_mode, plot, iplot\n",
    "from tensorflow.keras.preprocessing.image import ImageDataGenerator, img_to_array, array_to_img, load_img\n",
    "import warnings\n",
    "warnings.filterwarnings('ignore')"
   ]
  },
  {
   "cell_type": "code",
   "execution_count": 144,
   "metadata": {},
   "outputs": [],
   "source": [
    "df_samples = pd.read_csv(\"data/train.csv\")"
   ]
  },
  {
   "cell_type": "code",
   "execution_count": 145,
   "metadata": {},
   "outputs": [
    {
     "data": {
      "text/html": [
       "<div>\n",
       "<style scoped>\n",
       "    .dataframe tbody tr th:only-of-type {\n",
       "        vertical-align: middle;\n",
       "    }\n",
       "\n",
       "    .dataframe tbody tr th {\n",
       "        vertical-align: top;\n",
       "    }\n",
       "\n",
       "    .dataframe thead th {\n",
       "        text-align: right;\n",
       "    }\n",
       "</style>\n",
       "<table border=\"1\" class=\"dataframe\">\n",
       "  <thead>\n",
       "    <tr style=\"text-align: right;\">\n",
       "      <th></th>\n",
       "      <th>image_id</th>\n",
       "      <th>healthy</th>\n",
       "      <th>multiple_diseases</th>\n",
       "      <th>rust</th>\n",
       "      <th>scab</th>\n",
       "    </tr>\n",
       "  </thead>\n",
       "  <tbody>\n",
       "    <tr>\n",
       "      <td>0</td>\n",
       "      <td>Train_0.jpg</td>\n",
       "      <td>0</td>\n",
       "      <td>0</td>\n",
       "      <td>0</td>\n",
       "      <td>1</td>\n",
       "    </tr>\n",
       "    <tr>\n",
       "      <td>1</td>\n",
       "      <td>Train_1.jpg</td>\n",
       "      <td>0</td>\n",
       "      <td>1</td>\n",
       "      <td>0</td>\n",
       "      <td>0</td>\n",
       "    </tr>\n",
       "    <tr>\n",
       "      <td>2</td>\n",
       "      <td>Train_2.jpg</td>\n",
       "      <td>1</td>\n",
       "      <td>0</td>\n",
       "      <td>0</td>\n",
       "      <td>0</td>\n",
       "    </tr>\n",
       "    <tr>\n",
       "      <td>3</td>\n",
       "      <td>Train_3.jpg</td>\n",
       "      <td>0</td>\n",
       "      <td>0</td>\n",
       "      <td>1</td>\n",
       "      <td>0</td>\n",
       "    </tr>\n",
       "  </tbody>\n",
       "</table>\n",
       "</div>"
      ],
      "text/plain": [
       "      image_id  healthy  multiple_diseases  rust  scab\n",
       "0  Train_0.jpg        0                  0     0     1\n",
       "1  Train_1.jpg        0                  1     0     0\n",
       "2  Train_2.jpg        1                  0     0     0\n",
       "3  Train_3.jpg        0                  0     1     0"
      ]
     },
     "execution_count": 145,
     "metadata": {},
     "output_type": "execute_result"
    }
   ],
   "source": [
    "df_samples['image_id'] = pd.Series([img+'.jpg' for img in df_samples.image_id if '.jpg' not in img])\n",
    "df_samples.head(4)"
   ]
  },
  {
   "cell_type": "code",
   "execution_count": 22,
   "metadata": {},
   "outputs": [
    {
     "name": "stdout",
     "output_type": "stream",
     "text": [
      "1383 438\n"
     ]
    }
   ],
   "source": [
    "df_train, df_valid = train_test_split(df_samples, test_size=0.24, random_state=10)\n",
    "print(len(df_train), len(df_valid))"
   ]
  },
  {
   "cell_type": "code",
   "execution_count": 23,
   "metadata": {},
   "outputs": [],
   "source": [
    "def read_image(sample_path:str, resize_to=False) -> np.ndarray:\n",
    " \n",
    "        \n",
    "    im = Image.open(sample_path)\n",
    "    if resize_to:\n",
    "        im = im.resize(resize_to)\n",
    "    im = np.array(im) / 255.0\n",
    "    im = im.astype(\"float32\")\n",
    "\n",
    "    return im"
   ]
  },
  {
   "cell_type": "code",
   "execution_count": 24,
   "metadata": {},
   "outputs": [],
   "source": [
    "def reshape_input(img: np.ndarray) -> np.ndarray:\n",
    "    \n",
    "    img.reshape(img.shape[0] * img.shape[1] * img.shape[2]) #\n",
    "    return img"
   ]
  },
  {
   "cell_type": "code",
   "execution_count": 49,
   "metadata": {},
   "outputs": [
    {
     "name": "stderr",
     "output_type": "stream",
     "text": [
      "| |                    #                           | 1382 Elapsed Time: 0:00:50\n",
      "| |    #                                            | 437 Elapsed Time: 0:00:20\n"
     ]
    }
   ],
   "source": [
    "def load_data(df, resize_to=(512,512), train=True):\n",
    "    array_images = []\n",
    "    pbar = ProgressBar()\n",
    "    if train:\n",
    "        array_labels = []\n",
    "        for idx, img in pbar(enumerate(df.image_id)):\n",
    "\n",
    "            array_images.append(reshape_input(read_image('data/images/'+img, resize_to=resize_to)))\n",
    "            array_labels.append(list(df.iloc[idx][1:]))\n",
    "\n",
    "        return np.array(array_images), np.array(array_labels)\n",
    "    \n",
    "    for idx, img in pbar(enumerate(df.image_id)):\n",
    "\n",
    "        array_images.append(reshape_input(read_image('data/images/'+img, resize_to=resize_to))) \n",
    "    \n",
    "    return np.array(array_images)\n",
    "\n",
    "x_train, y_train = load_data(df_train)\n",
    "x_valid, y_valid = load_data(df_valid)"
   ]
  },
  {
   "cell_type": "code",
   "execution_count": 52,
   "metadata": {},
   "outputs": [],
   "source": [
    "# import skimage"
   ]
  },
  {
   "cell_type": "code",
   "execution_count": null,
   "metadata": {},
   "outputs": [],
   "source": [
    "# for category in os.listdir(TRAIN_PATH):\n",
    "#     if len(os.listdir(TRAIN_PATH+category)) < 10:\n",
    "#         cnt += 1\n",
    "#         open_dir = (os.listdir(TRAIN_PATH+category))\n",
    "#         print(category)\n",
    "#         for image in open_dir:\n",
    "#             try:\n",
    "#                 img = load_img(TRAIN_PATH+str(category)+'/'+image)\n",
    "#                 x = img_to_array(img)\n",
    "#                 x = x.reshape((1,) + x.shape)\n",
    "#                 i = 0\n",
    "#                 for batch in image_gen.flow(x, batch_size=1, save_to_dir=TRAIN_PATH+str(category)+'/', save_prefix='datagen', save_format=\"jpg\"):\n",
    "#                     i+=1\n",
    "#                     if i > 10:\n",
    "#                         break\n",
    "#             except Exception as e:\n",
    "#                 print(\"image caused error => \" % image)\n",
    "#                 break\n",
    "# print(\"Nombre de categroye avec moins 10 images %s\" % (cnt))"
   ]
  },
  {
   "cell_type": "code",
   "execution_count": 76,
   "metadata": {},
   "outputs": [],
   "source": [
    "image_gen = ImageDataGenerator(width_shift_range=.3, height_shift_range=.2, shear_range=.2, zoom_range=0.2, rescale=.2) "
   ]
  },
  {
   "cell_type": "code",
   "execution_count": 127,
   "metadata": {},
   "outputs": [
    {
     "name": "stderr",
     "output_type": "stream",
     "text": [
      "/ |                            #                    | 152 Elapsed Time: 0:05:40"
     ]
    }
   ],
   "source": [
    "pbar = ProgressBar()\n",
    "nb_samples = 0\n",
    "for idx, img in pbar(enumerate(df_samples.image_id)):\n",
    "    if nb_samples > 400:\n",
    "        break\n",
    "    image = load_img(str('data/images/'+img))\n",
    "    x = img_to_array(image)\n",
    "    x = x.reshape((1,) + x.shape)\n",
    "    i = 0\n",
    "    if np.argmax(list(df_samples.iloc[idx][1:])) == 0:\n",
    "        for batch in image_gen.flow(x, batch_size=1, save_to_dir='data/images/datagen/', save_prefix='datagen_'+str(np.argmax(list(df_samples.iloc[idx][1:]))), save_format=\"jpg\"):\n",
    "            i+=1\n",
    "            nb_samples+=1\n",
    "            if i > 10:\n",
    "                break\n",
    "    \n",
    "    "
   ]
  },
  {
   "cell_type": "code",
   "execution_count": 83,
   "metadata": {},
   "outputs": [
    {
     "name": "stdout",
     "output_type": "stream",
     "text": [
      "file_removed :datagen_3_0_1053.jpg\n",
      "file_removed :datagen_3_0_1100.jpg\n",
      "file_removed :datagen_3_0_1176.jpg\n",
      "file_removed :datagen_3_0_1361.jpg\n",
      "file_removed :datagen_3_0_1363.jpg\n",
      "file_removed :datagen_3_0_1536.jpg\n",
      "file_removed :datagen_3_0_1905.jpg\n",
      "file_removed :datagen_3_0_2014.jpg\n",
      "file_removed :datagen_3_0_2267.jpg\n",
      "file_removed :datagen_3_0_2405.jpg\n",
      "file_removed :datagen_3_0_2490.jpg\n",
      "file_removed :datagen_3_0_2491.jpg\n",
      "file_removed :datagen_3_0_2619.jpg\n",
      "file_removed :datagen_3_0_285.jpg\n",
      "file_removed :datagen_3_0_3125.jpg\n",
      "file_removed :datagen_3_0_3148.jpg\n",
      "file_removed :datagen_3_0_3225.jpg\n",
      "file_removed :datagen_3_0_3600.jpg\n",
      "file_removed :datagen_3_0_3723.jpg\n",
      "file_removed :datagen_3_0_384.jpg\n",
      "file_removed :datagen_3_0_3966.jpg\n",
      "file_removed :datagen_3_0_4138.jpg\n",
      "file_removed :datagen_3_0_4183.jpg\n",
      "file_removed :datagen_3_0_4300.jpg\n",
      "file_removed :datagen_3_0_4403.jpg\n",
      "file_removed :datagen_3_0_4593.jpg\n",
      "file_removed :datagen_3_0_4621.jpg\n",
      "file_removed :datagen_3_0_5105.jpg\n",
      "file_removed :datagen_3_0_5218.jpg\n",
      "file_removed :datagen_3_0_5667.jpg\n",
      "file_removed :datagen_3_0_586.jpg\n",
      "file_removed :datagen_3_0_5928.jpg\n",
      "file_removed :datagen_3_0_5970.jpg\n",
      "file_removed :datagen_3_0_6128.jpg\n",
      "file_removed :datagen_3_0_6307.jpg\n",
      "file_removed :datagen_3_0_646.jpg\n",
      "file_removed :datagen_3_0_685.jpg\n",
      "file_removed :datagen_3_0_6965.jpg\n",
      "file_removed :datagen_3_0_6967.jpg\n",
      "file_removed :datagen_3_0_7040.jpg\n",
      "file_removed :datagen_3_0_7384.jpg\n",
      "file_removed :datagen_3_0_7405.jpg\n",
      "file_removed :datagen_3_0_7571.jpg\n",
      "file_removed :datagen_3_0_8444.jpg\n",
      "file_removed :datagen_3_0_8516.jpg\n",
      "file_removed :datagen_3_0_8577.jpg\n",
      "file_removed :datagen_3_0_8587.jpg\n",
      "file_removed :datagen_3_0_8694.jpg\n",
      "file_removed :datagen_3_0_9069.jpg\n",
      "file_removed :datagen_3_0_9217.jpg\n",
      "file_removed :datagen_3_0_9547.jpg\n",
      "file_removed :datagen_3_0_9871.jpg\n",
      "file_removed :datagen_3_0_9945.jpg\n"
     ]
    }
   ],
   "source": [
    "for img_data_gen in os.listdir('data/images/datagen/'):\n",
    "    if 'datagen_' in img_data_gen:\n",
    "        os.remove('data/images/datagen/'+img_data_gen)\n",
    "        print('file_removed :'+img_data_gen)\n",
    "    "
   ]
  },
  {
   "cell_type": "code",
   "execution_count": 100,
   "metadata": {},
   "outputs": [],
   "source": [
    "df = pd.DataFrame(columns=['lib', 'qty1', 'qty2', 'qty3', 'qty4'])\n",
    "for i, img in enumerate(os.listdir('data/images/datagen/')):\n",
    "    df.loc[i] = [str(img)] + list([0,0,0,1])"
   ]
  },
  {
   "cell_type": "code",
   "execution_count": 101,
   "metadata": {},
   "outputs": [
    {
     "data": {
      "text/html": [
       "<div>\n",
       "<style scoped>\n",
       "    .dataframe tbody tr th:only-of-type {\n",
       "        vertical-align: middle;\n",
       "    }\n",
       "\n",
       "    .dataframe tbody tr th {\n",
       "        vertical-align: top;\n",
       "    }\n",
       "\n",
       "    .dataframe thead th {\n",
       "        text-align: right;\n",
       "    }\n",
       "</style>\n",
       "<table border=\"1\" class=\"dataframe\">\n",
       "  <thead>\n",
       "    <tr style=\"text-align: right;\">\n",
       "      <th></th>\n",
       "      <th>lib</th>\n",
       "      <th>qty1</th>\n",
       "      <th>qty2</th>\n",
       "      <th>qty3</th>\n",
       "      <th>qty4</th>\n",
       "    </tr>\n",
       "  </thead>\n",
       "  <tbody>\n",
       "    <tr>\n",
       "      <td>0</td>\n",
       "      <td>datagen_3_0_0.jpg</td>\n",
       "      <td>0</td>\n",
       "      <td>0</td>\n",
       "      <td>0</td>\n",
       "      <td>1</td>\n",
       "    </tr>\n",
       "    <tr>\n",
       "      <td>1</td>\n",
       "      <td>datagen_3_0_1.jpg</td>\n",
       "      <td>0</td>\n",
       "      <td>0</td>\n",
       "      <td>0</td>\n",
       "      <td>1</td>\n",
       "    </tr>\n",
       "    <tr>\n",
       "      <td>2</td>\n",
       "      <td>datagen_3_0_10.jpg</td>\n",
       "      <td>0</td>\n",
       "      <td>0</td>\n",
       "      <td>0</td>\n",
       "      <td>1</td>\n",
       "    </tr>\n",
       "    <tr>\n",
       "      <td>3</td>\n",
       "      <td>datagen_3_0_1002.jpg</td>\n",
       "      <td>0</td>\n",
       "      <td>0</td>\n",
       "      <td>0</td>\n",
       "      <td>1</td>\n",
       "    </tr>\n",
       "  </tbody>\n",
       "</table>\n",
       "</div>"
      ],
      "text/plain": [
       "                    lib qty1 qty2 qty3 qty4\n",
       "0     datagen_3_0_0.jpg    0    0    0    1\n",
       "1     datagen_3_0_1.jpg    0    0    0    1\n",
       "2    datagen_3_0_10.jpg    0    0    0    1\n",
       "3  datagen_3_0_1002.jpg    0    0    0    1"
      ]
     },
     "execution_count": 101,
     "metadata": {},
     "output_type": "execute_result"
    }
   ],
   "source": [
    "df.head(4)"
   ]
  },
  {
   "cell_type": "code",
   "execution_count": 151,
   "metadata": {},
   "outputs": [],
   "source": [
    "l1 = 0\n",
    "l2 = 0\n",
    "l3 = 0\n",
    "l4 = 0\n",
    "for i, img in enumerate(df_samples.image_id):\n",
    "    if np.argmax(list(df_samples.iloc[i][1:])) == 3:\n",
    "        l4 += 1\n",
    "    elif np.argmax(list(df_samples.iloc[i][1:])) == 2:\n",
    "        l3 += 1\n",
    "    elif np.argmax(list(df_samples.iloc[i][1:])) == 1:\n",
    "        l2 += 1\n",
    "    elif np.argmax(list(df_samples.iloc[i][1:])) == 0:\n",
    "        l1 += 1"
   ]
  },
  {
   "cell_type": "code",
   "execution_count": 153,
   "metadata": {},
   "outputs": [
    {
     "name": "stdout",
     "output_type": "stream",
     "text": [
      "[healthy len => 915] - [multiple_diseases len => 1039] - [rust len => 1144] - [scab len => 1145]\n"
     ]
    }
   ],
   "source": [
    "print('[%s len => %s] - [%s len => %s] - [%s len => %s] - [%s len => %s]' % (df_samples.columns[1], l1, df_samples.columns[2],l2,df_samples.columns[3],l3,df_samples.columns[4],l4))"
   ]
  },
  {
   "cell_type": "code",
   "execution_count": 107,
   "metadata": {},
   "outputs": [
    {
     "data": {
      "text/plain": [
       "Index(['image_id', 'healthy', 'multiple_diseases', 'rust', 'scab'], dtype='object')"
      ]
     },
     "execution_count": 107,
     "metadata": {},
     "output_type": "execute_result"
    }
   ],
   "source": [
    "df_samples.columns"
   ]
  },
  {
   "cell_type": "code",
   "execution_count": 139,
   "metadata": {},
   "outputs": [],
   "source": [
    "l1 = 0\n",
    "l2 = 0\n",
    "l3 = 0\n",
    "l4 = 0\n",
    "count = 0\n",
    "for img in os.listdir('data/images/datagen/'):\n",
    "    \n",
    "    if 'datagen_3' in img:\n",
    "        l4 += 1\n",
    "    elif 'datagen_2' in img:\n",
    "        l3 += 1\n",
    "    elif 'datagen_1' in img:\n",
    "        l2 += 1\n",
    "    elif 'datagen_0' in img:\n",
    "        l1 += 1\n",
    "    \n"
   ]
  },
  {
   "cell_type": "code",
   "execution_count": 140,
   "metadata": {},
   "outputs": [
    {
     "name": "stdout",
     "output_type": "stream",
     "text": [
      "[image_id len => 399] - [healthy len => 948] - [multiple_diseases len => 522] - [rust len => 553]\n"
     ]
    }
   ],
   "source": [
    "print('[%s len => %s] - [%s len => %s] - [%s len => %s] - [%s len => %s]' % (df_samples.columns[0], l1, df_samples.columns[1],l2,df_samples.columns[2],l3,df_samples.columns[3],l4))"
   ]
  },
  {
   "cell_type": "code",
   "execution_count": 130,
   "metadata": {},
   "outputs": [
    {
     "data": {
      "text/html": [
       "<div>\n",
       "<style scoped>\n",
       "    .dataframe tbody tr th:only-of-type {\n",
       "        vertical-align: middle;\n",
       "    }\n",
       "\n",
       "    .dataframe tbody tr th {\n",
       "        vertical-align: top;\n",
       "    }\n",
       "\n",
       "    .dataframe thead th {\n",
       "        text-align: right;\n",
       "    }\n",
       "</style>\n",
       "<table border=\"1\" class=\"dataframe\">\n",
       "  <thead>\n",
       "    <tr style=\"text-align: right;\">\n",
       "      <th></th>\n",
       "      <th>image_id</th>\n",
       "      <th>healthy</th>\n",
       "      <th>multiple_diseases</th>\n",
       "      <th>rust</th>\n",
       "      <th>scab</th>\n",
       "    </tr>\n",
       "  </thead>\n",
       "  <tbody>\n",
       "    <tr>\n",
       "      <td>0</td>\n",
       "      <td>Train_0.jpg</td>\n",
       "      <td>0</td>\n",
       "      <td>0</td>\n",
       "      <td>0</td>\n",
       "      <td>1</td>\n",
       "    </tr>\n",
       "    <tr>\n",
       "      <td>1</td>\n",
       "      <td>Train_1.jpg</td>\n",
       "      <td>0</td>\n",
       "      <td>1</td>\n",
       "      <td>0</td>\n",
       "      <td>0</td>\n",
       "    </tr>\n",
       "    <tr>\n",
       "      <td>2</td>\n",
       "      <td>Train_2.jpg</td>\n",
       "      <td>1</td>\n",
       "      <td>0</td>\n",
       "      <td>0</td>\n",
       "      <td>0</td>\n",
       "    </tr>\n",
       "    <tr>\n",
       "      <td>3</td>\n",
       "      <td>Train_3.jpg</td>\n",
       "      <td>0</td>\n",
       "      <td>0</td>\n",
       "      <td>1</td>\n",
       "      <td>0</td>\n",
       "    </tr>\n",
       "  </tbody>\n",
       "</table>\n",
       "</div>"
      ],
      "text/plain": [
       "      image_id  healthy  multiple_diseases  rust  scab\n",
       "0  Train_0.jpg        0                  0     0     1\n",
       "1  Train_1.jpg        0                  1     0     0\n",
       "2  Train_2.jpg        1                  0     0     0\n",
       "3  Train_3.jpg        0                  0     1     0"
      ]
     },
     "execution_count": 130,
     "metadata": {},
     "output_type": "execute_result"
    }
   ],
   "source": [
    "df_samples.head(4)"
   ]
  },
  {
   "cell_type": "code",
   "execution_count": 147,
   "metadata": {},
   "outputs": [],
   "source": [
    "for idx, img in enumerate(os.listdir('data/images/datagen')):\n",
    " \n",
    "    if 'datagen_3' in img:\n",
    "        df_samples.loc[len(df_samples)] = [str(img)] + [0, 0, 0, 1]\n",
    "    elif 'datagen_2' in img:\n",
    "        df_samples.loc[len(df_samples)] = [str(img)] + [0, 0, 1, 0]\n",
    "    elif 'datagen_1' in img:\n",
    "        df_samples.loc[len(df_samples)] = [str(img)] + [0, 1, 0, 0]\n",
    "    elif 'datagen_0' in img:\n",
    "        df_samples.loc[len(df_samples)] = [str(img)] + [1, 0, 0, 0]"
   ]
  },
  {
   "cell_type": "code",
   "execution_count": 148,
   "metadata": {},
   "outputs": [
    {
     "data": {
      "text/plain": [
       "image_id             datagen_3_0_9998.jpg\n",
       "healthy                                 0\n",
       "multiple_diseases                       0\n",
       "rust                                    0\n",
       "scab                                    1\n",
       "Name: 4242, dtype: object"
      ]
     },
     "execution_count": 148,
     "metadata": {},
     "output_type": "execute_result"
    }
   ],
   "source": [
    "df_samples.iloc[len(df_samples)-1]"
   ]
  },
  {
   "cell_type": "code",
   "execution_count": 150,
   "metadata": {},
   "outputs": [
    {
     "data": {
      "text/plain": [
       "4243"
      ]
     },
     "execution_count": 150,
     "metadata": {},
     "output_type": "execute_result"
    }
   ],
   "source": [
    "# len(df_samples)"
   ]
  },
  {
   "cell_type": "code",
   "execution_count": 157,
   "metadata": {},
   "outputs": [],
   "source": [
    "df_samples.to_csv('new_train.csv', index=False)"
   ]
  },
  {
   "cell_type": "code",
   "execution_count": 158,
   "metadata": {},
   "outputs": [],
   "source": [
    "df = pd.read_csv('new_train.csv')"
   ]
  },
  {
   "cell_type": "code",
   "execution_count": 160,
   "metadata": {},
   "outputs": [
    {
     "data": {
      "text/html": [
       "<div>\n",
       "<style scoped>\n",
       "    .dataframe tbody tr th:only-of-type {\n",
       "        vertical-align: middle;\n",
       "    }\n",
       "\n",
       "    .dataframe tbody tr th {\n",
       "        vertical-align: top;\n",
       "    }\n",
       "\n",
       "    .dataframe thead th {\n",
       "        text-align: right;\n",
       "    }\n",
       "</style>\n",
       "<table border=\"1\" class=\"dataframe\">\n",
       "  <thead>\n",
       "    <tr style=\"text-align: right;\">\n",
       "      <th></th>\n",
       "      <th>image_id</th>\n",
       "      <th>healthy</th>\n",
       "      <th>multiple_diseases</th>\n",
       "      <th>rust</th>\n",
       "      <th>scab</th>\n",
       "    </tr>\n",
       "  </thead>\n",
       "  <tbody>\n",
       "    <tr>\n",
       "      <td>3629</td>\n",
       "      <td>datagen_2_0_9383.jpg</td>\n",
       "      <td>0</td>\n",
       "      <td>0</td>\n",
       "      <td>1</td>\n",
       "      <td>0</td>\n",
       "    </tr>\n",
       "    <tr>\n",
       "      <td>1365</td>\n",
       "      <td>Train_1365.jpg</td>\n",
       "      <td>0</td>\n",
       "      <td>0</td>\n",
       "      <td>1</td>\n",
       "      <td>0</td>\n",
       "    </tr>\n",
       "    <tr>\n",
       "      <td>2613</td>\n",
       "      <td>datagen_1_0_4831.jpg</td>\n",
       "      <td>0</td>\n",
       "      <td>1</td>\n",
       "      <td>0</td>\n",
       "      <td>0</td>\n",
       "    </tr>\n",
       "    <tr>\n",
       "      <td>3792</td>\n",
       "      <td>datagen_3_0_9106.jpg</td>\n",
       "      <td>0</td>\n",
       "      <td>0</td>\n",
       "      <td>0</td>\n",
       "      <td>1</td>\n",
       "    </tr>\n",
       "  </tbody>\n",
       "</table>\n",
       "</div>"
      ],
      "text/plain": [
       "                  image_id  healthy  multiple_diseases  rust  scab\n",
       "3629  datagen_2_0_9383.jpg        0                  0     1     0\n",
       "1365        Train_1365.jpg        0                  0     1     0\n",
       "2613  datagen_1_0_4831.jpg        0                  1     0     0\n",
       "3792  datagen_3_0_9106.jpg        0                  0     0     1"
      ]
     },
     "execution_count": 160,
     "metadata": {},
     "output_type": "execute_result"
    }
   ],
   "source": [
    "df.sample(n=4)"
   ]
  },
  {
   "cell_type": "code",
   "execution_count": 161,
   "metadata": {},
   "outputs": [
    {
     "data": {
      "text/plain": [
       "4243"
      ]
     },
     "execution_count": 161,
     "metadata": {},
     "output_type": "execute_result"
    }
   ],
   "source": [
    "len(df)"
   ]
  },
  {
   "cell_type": "code",
   "execution_count": 162,
   "metadata": {},
   "outputs": [],
   "source": [
    "l1 = 0\n",
    "l2 = 0\n",
    "l3 = 0\n",
    "l4 = 0\n",
    "for i, img in enumerate(df.image_id):\n",
    "    if np.argmax(list(df.iloc[i][1:])) == 3:\n",
    "        l4 += 1\n",
    "    elif np.argmax(list(df.iloc[i][1:])) == 2:\n",
    "        l3 += 1\n",
    "    elif np.argmax(list(df.iloc[i][1:])) == 1:\n",
    "        l2 += 1\n",
    "    elif np.argmax(list(df.iloc[i][1:])) == 0:\n",
    "        l1 += 1"
   ]
  },
  {
   "cell_type": "code",
   "execution_count": 163,
   "metadata": {},
   "outputs": [
    {
     "name": "stdout",
     "output_type": "stream",
     "text": [
      "[image_id len => 915] - [healthy len => 1039] - [multiple_diseases len => 1144] - [rust len => 1145]\n"
     ]
    }
   ],
   "source": [
    "print('[%s len => %s] - [%s len => %s] - [%s len => %s] - [%s len => %s]' % (df_samples.columns[0], l1, df_samples.columns[1],l2,df_samples.columns[2],l3,df_samples.columns[3],l4))"
   ]
  },
  {
   "cell_type": "code",
   "execution_count": null,
   "metadata": {},
   "outputs": [],
   "source": []
  }
 ],
 "metadata": {
  "kernelspec": {
   "display_name": "Python 3",
   "language": "python",
   "name": "python3"
  },
  "language_info": {
   "codemirror_mode": {
    "name": "ipython",
    "version": 3
   },
   "file_extension": ".py",
   "mimetype": "text/x-python",
   "name": "python",
   "nbconvert_exporter": "python",
   "pygments_lexer": "ipython3",
   "version": "3.6.9"
  }
 },
 "nbformat": 4,
 "nbformat_minor": 4
}
